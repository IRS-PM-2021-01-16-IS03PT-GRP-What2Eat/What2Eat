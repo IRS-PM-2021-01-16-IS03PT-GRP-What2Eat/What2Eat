{
 "cells": [
  {
   "cell_type": "code",
   "execution_count": 1,
   "metadata": {},
   "outputs": [],
   "source": [
    "import pandas as pd"
   ]
  },
  {
   "cell_type": "code",
   "execution_count": 2,
   "metadata": {},
   "outputs": [
    {
     "data": {
      "text/html": [
       "<div>\n",
       "<style scoped>\n",
       "    .dataframe tbody tr th:only-of-type {\n",
       "        vertical-align: middle;\n",
       "    }\n",
       "\n",
       "    .dataframe tbody tr th {\n",
       "        vertical-align: top;\n",
       "    }\n",
       "\n",
       "    .dataframe thead th {\n",
       "        text-align: right;\n",
       "    }\n",
       "</style>\n",
       "<table border=\"1\" class=\"dataframe\">\n",
       "  <thead>\n",
       "    <tr style=\"text-align: right;\">\n",
       "      <th></th>\n",
       "      <th>Unnamed: 0</th>\n",
       "      <th>recipe_id</th>\n",
       "      <th>recipe_name</th>\n",
       "      <th>ingredients</th>\n",
       "      <th>ingredient_tags</th>\n",
       "    </tr>\n",
       "  </thead>\n",
       "  <tbody>\n",
       "    <tr>\n",
       "      <th>0</th>\n",
       "      <td>0</td>\n",
       "      <td>222877</td>\n",
       "      <td>Caipirinha Cocktail</td>\n",
       "      <td>lime quartered</td>\n",
       "      <td>lime</td>\n",
       "    </tr>\n",
       "    <tr>\n",
       "      <th>1</th>\n",
       "      <td>1</td>\n",
       "      <td>222877</td>\n",
       "      <td>Caipirinha Cocktail</td>\n",
       "      <td>white sugar</td>\n",
       "      <td>sugar</td>\n",
       "    </tr>\n",
       "    <tr>\n",
       "      <th>2</th>\n",
       "      <td>2</td>\n",
       "      <td>222877</td>\n",
       "      <td>Caipirinha Cocktail</td>\n",
       "      <td>fluid ounces cachaca (Brazilian rum)</td>\n",
       "      <td>cachaca</td>\n",
       "    </tr>\n",
       "    <tr>\n",
       "      <th>3</th>\n",
       "      <td>4</td>\n",
       "      <td>241509</td>\n",
       "      <td>Stumptown Coffee Rub</td>\n",
       "      <td>ground coffee (such as StumptownÂ®)</td>\n",
       "      <td>coffee</td>\n",
       "    </tr>\n",
       "    <tr>\n",
       "      <th>4</th>\n",
       "      <td>5</td>\n",
       "      <td>241509</td>\n",
       "      <td>Stumptown Coffee Rub</td>\n",
       "      <td>ground black pepper</td>\n",
       "      <td>pepper</td>\n",
       "    </tr>\n",
       "    <tr>\n",
       "      <th>...</th>\n",
       "      <td>...</td>\n",
       "      <td>...</td>\n",
       "      <td>...</td>\n",
       "      <td>...</td>\n",
       "      <td>...</td>\n",
       "    </tr>\n",
       "    <tr>\n",
       "      <th>3719</th>\n",
       "      <td>4349</td>\n",
       "      <td>22225</td>\n",
       "      <td>Austrian Chocolate Balls</td>\n",
       "      <td>square unsweetened chocolate</td>\n",
       "      <td>chocolate</td>\n",
       "    </tr>\n",
       "    <tr>\n",
       "      <th>3720</th>\n",
       "      <td>4350</td>\n",
       "      <td>22225</td>\n",
       "      <td>Austrian Chocolate Balls</td>\n",
       "      <td>butter</td>\n",
       "      <td>butter</td>\n",
       "    </tr>\n",
       "    <tr>\n",
       "      <th>3721</th>\n",
       "      <td>4351</td>\n",
       "      <td>22225</td>\n",
       "      <td>Austrian Chocolate Balls</td>\n",
       "      <td>vanilla extract</td>\n",
       "      <td>vanilla</td>\n",
       "    </tr>\n",
       "    <tr>\n",
       "      <th>3722</th>\n",
       "      <td>4352</td>\n",
       "      <td>22225</td>\n",
       "      <td>Austrian Chocolate Balls</td>\n",
       "      <td>confectioners' sugar</td>\n",
       "      <td>sugar</td>\n",
       "    </tr>\n",
       "    <tr>\n",
       "      <th>3723</th>\n",
       "      <td>4353</td>\n",
       "      <td>22225</td>\n",
       "      <td>Austrian Chocolate Balls</td>\n",
       "      <td>milk</td>\n",
       "      <td>milk</td>\n",
       "    </tr>\n",
       "  </tbody>\n",
       "</table>\n",
       "<p>3724 rows × 5 columns</p>\n",
       "</div>"
      ],
      "text/plain": [
       "      Unnamed: 0  recipe_id               recipe_name  \\\n",
       "0              0     222877       Caipirinha Cocktail   \n",
       "1              1     222877       Caipirinha Cocktail   \n",
       "2              2     222877       Caipirinha Cocktail   \n",
       "3              4     241509      Stumptown Coffee Rub   \n",
       "4              5     241509      Stumptown Coffee Rub   \n",
       "...          ...        ...                       ...   \n",
       "3719        4349      22225  Austrian Chocolate Balls   \n",
       "3720        4350      22225  Austrian Chocolate Balls   \n",
       "3721        4351      22225  Austrian Chocolate Balls   \n",
       "3722        4352      22225  Austrian Chocolate Balls   \n",
       "3723        4353      22225  Austrian Chocolate Balls   \n",
       "\n",
       "                               ingredients ingredient_tags  \n",
       "0                           lime quartered            lime  \n",
       "1                              white sugar           sugar  \n",
       "2     fluid ounces cachaca (Brazilian rum)         cachaca  \n",
       "3      ground coffee (such as StumptownÂ®)          coffee  \n",
       "4                      ground black pepper          pepper  \n",
       "...                                    ...             ...  \n",
       "3719          square unsweetened chocolate       chocolate  \n",
       "3720                                butter          butter  \n",
       "3721                       vanilla extract         vanilla  \n",
       "3722                  confectioners' sugar           sugar  \n",
       "3723                                  milk            milk  \n",
       "\n",
       "[3724 rows x 5 columns]"
      ]
     },
     "execution_count": 2,
     "metadata": {},
     "output_type": "execute_result"
    }
   ],
   "source": [
    "df = pd.read_csv('recipe_ingredient_tag.csv')\n",
    "df"
   ]
  },
  {
   "cell_type": "markdown",
   "metadata": {},
   "source": [
    "Check for the 7 categories of ingredients: Carbs,Vegetables,Fruits,Meat,fats_oils,Dairy,Sweets/Sugar.\n",
    "\n",
    "Reference: https://www.sharecare.com/health/healthy-eating-guidelines/how-many-groups-food-classified\n",
    "\n",
    "Ingredient List - \n",
    "\n",
    "Carbs: https://en.wikipedia.org/wiki/Grain#Grains_and_cereal\n",
    "\n",
    "vegetable/Fruits: https://alphabetizer.flap.tv/lists/list-of-fruits-and-vegetables.php\n",
    "\n",
    "meat: https://www.listchallenges.com/meats-from-a-to-z\n",
    "\n",
    "dairy: https://en.wikipedia.org/wiki/List_of_dairy_products\n",
    "\n",
    "fats/oils: https://www.allinahealth.org/health-conditions-and-treatments/eat-healthy/nutrition-basics/understanding-cooking-fats-and-oils\n",
    "\n",
    "sweet/sugar: https://commonsensehealth.com/list-of-sugar-names-and-sugar-facts/#:~:text=Sugar%20Facts%20about%20Hidden%20Sugars&text=The%20most%20common%20names%20for,list%20with%2069%20sugar%20names."
   ]
  },
  {
   "cell_type": "markdown",
   "metadata": {},
   "source": [
    "Ingredients were scrapped through each website and put into separate files."
   ]
  },
  {
   "cell_type": "markdown",
   "metadata": {},
   "source": [
    "In addition, we have included a separate category for soupbase/saucy dishes, which will be used to classify recipes that user will tend to have with different moods. "
   ]
  },
  {
   "cell_type": "code",
   "execution_count": 3,
   "metadata": {},
   "outputs": [],
   "source": [
    "saucy = [222877,9056,32241,55475,261105,\n",
    "246530,14194,246951,254865,186476,246293,195993,23094,237136,22343,256784,18906,234117,218925,72429,\n",
    "68002,220927,230728,107945,142993,238453,219338,62761,257953,12536,86516,215345,232579,24600,12955,\n",
    "235235,245665,14848,244932,16303,236962,242281,54473,158960,259135,255238,240813,13025,87524,230778,\n",
    "216437,25443,22349,20653,245023,219888,13035,17227,222232,228717,23193,24414,25745,233875,60124,\n",
    "214955,23985,241368,16826,148368,13283,74707]"
   ]
  },
  {
   "cell_type": "code",
   "execution_count": 4,
   "metadata": {},
   "outputs": [],
   "source": [
    "carbs = pd.read_excel('ingredient data/Grain_list.xlsx',engine='openpyxl')\n",
    "veg_fruit = pd.read_csv('ingredient data/vegetable_fruits.txt',header=None)\n",
    "meat = pd.read_excel('ingredient data/Meats_list.xlsx',engine='openpyxl')\n",
    "dairy = pd.read_excel('ingredient data/Dairy_list.xlsx',engine='openpyxl')\n",
    "fatsoil = pd.read_excel('ingredient data/Oil_fat_list.xlsx',engine='openpyxl')\n",
    "sweet_sugar = pd.read_excel('ingredient data/SugarSweet_list.xlsx',engine='openpyxl')"
   ]
  },
  {
   "cell_type": "code",
   "execution_count": 5,
   "metadata": {},
   "outputs": [],
   "source": [
    "carbs = carbs.drop(['Field1_link'],axis=1)\n",
    "carbs['Field1'] = carbs['Field1'].str.lower()\n",
    "meat = meat.drop(['item-rank','Thumbnail'],axis=1)\n",
    "meat['item-name'] = meat['item-name'].str.lower()\n",
    "veg_fruit[0] = veg_fruit[0].str.lower()\n",
    "dairy1 = dairy['Field1'].str.split('\\n\\n\\n\\n', expand=True).stack().reset_index(level=-1, drop=True)\n",
    "dairy_list = pd.DataFrame({'Dairy':dairy1})\n",
    "dairy_list.reset_index(drop=True,inplace=True)\n",
    "dairy_list['Dairy']=dairy_list['Dairy'].str.lower()\n",
    "sweet_sugar = sweet_sugar.drop('Field2',axis=1)\n",
    "sugar1 = sweet_sugar['Field1'].str.split(' ', expand=True).stack().reset_index(level=-1, drop=True)\n",
    "sweet_sugar_list=pd.DataFrame({'sugar':sugar1})\n",
    "sugar2 = sweet_sugar_list['sugar'].str.split('\\n', expand=True).stack().reset_index(level=-1, drop=True)\n",
    "sugar_list=pd.DataFrame({'sugar':sugar2})\n",
    "sugar_list.reset_index(drop=True,inplace=True)\n",
    "sugar_list['sugar'] = sugar_list['sugar'].str.lower()"
   ]
  },
  {
   "cell_type": "code",
   "execution_count": 6,
   "metadata": {},
   "outputs": [],
   "source": [
    "df_recipe = df[['recipe_id','recipe_name','ingredient_tags']]"
   ]
  },
  {
   "cell_type": "code",
   "execution_count": 7,
   "metadata": {},
   "outputs": [
    {
     "name": "stderr",
     "output_type": "stream",
     "text": [
      "<ipython-input-7-aa778afcf3bc>:1: SettingWithCopyWarning: \n",
      "A value is trying to be set on a copy of a slice from a DataFrame.\n",
      "Try using .loc[row_indexer,col_indexer] = value instead\n",
      "\n",
      "See the caveats in the documentation: https://pandas.pydata.org/pandas-docs/stable/user_guide/indexing.html#returning-a-view-versus-a-copy\n",
      "  df_recipe['ingredient_category']=\"\"\n"
     ]
    }
   ],
   "source": [
    "df_recipe['ingredient_category']=\"\""
   ]
  },
  {
   "cell_type": "code",
   "execution_count": 8,
   "metadata": {},
   "outputs": [],
   "source": [
    "#Matching ingredient tags to ingredient list in order to get ingredient category"
   ]
  },
  {
   "cell_type": "code",
   "execution_count": 9,
   "metadata": {},
   "outputs": [
    {
     "name": "stderr",
     "output_type": "stream",
     "text": [
      "<ipython-input-9-404640a448ac>:6: SettingWithCopyWarning: \n",
      "A value is trying to be set on a copy of a slice from a DataFrame\n",
      "\n",
      "See the caveats in the documentation: https://pandas.pydata.org/pandas-docs/stable/user_guide/indexing.html#returning-a-view-versus-a-copy\n",
      "  df_recipe['ingredient_category'][i] = 'carbs'\n",
      "C:\\Users\\Shaun\\anaconda3\\envs\\env_ISS\\lib\\site-packages\\IPython\\core\\interactiveshell.py:3437: SettingWithCopyWarning: \n",
      "A value is trying to be set on a copy of a slice from a DataFrame\n",
      "\n",
      "See the caveats in the documentation: https://pandas.pydata.org/pandas-docs/stable/user_guide/indexing.html#returning-a-view-versus-a-copy\n",
      "  exec(code_obj, self.user_global_ns, self.user_ns)\n"
     ]
    }
   ],
   "source": [
    "#Find Carbs in ingredient list\n",
    "for i in range(len(df_recipe)):\n",
    "    for a in range(len(carbs)):\n",
    "        \n",
    "        if (df_recipe['ingredient_tags'][i] in carbs['Field1'][a]):\n",
    "            df_recipe['ingredient_category'][i] = 'carbs'\n",
    "        else:\n",
    "            continue\n",
    "            "
   ]
  },
  {
   "cell_type": "code",
   "execution_count": 10,
   "metadata": {},
   "outputs": [],
   "source": [
    "#Matching for Meat"
   ]
  },
  {
   "cell_type": "code",
   "execution_count": 11,
   "metadata": {},
   "outputs": [
    {
     "name": "stderr",
     "output_type": "stream",
     "text": [
      "<ipython-input-11-b6678f9b6944>:5: SettingWithCopyWarning: \n",
      "A value is trying to be set on a copy of a slice from a DataFrame\n",
      "\n",
      "See the caveats in the documentation: https://pandas.pydata.org/pandas-docs/stable/user_guide/indexing.html#returning-a-view-versus-a-copy\n",
      "  df_recipe['ingredient_category'][i] = 'meat'\n"
     ]
    }
   ],
   "source": [
    "for i in range(len(df_recipe)):\n",
    "\n",
    "    for b in range(len(meat)):\n",
    "                    if(df_recipe['ingredient_tags'][i]==meat['item-name'][b]):\n",
    "                        df_recipe['ingredient_category'][i] = 'meat'\n",
    "                    else:\n",
    "                        continue"
   ]
  },
  {
   "cell_type": "code",
   "execution_count": 12,
   "metadata": {},
   "outputs": [],
   "source": [
    "#Matching for Vegetables and Fruits"
   ]
  },
  {
   "cell_type": "code",
   "execution_count": 13,
   "metadata": {},
   "outputs": [
    {
     "name": "stderr",
     "output_type": "stream",
     "text": [
      "<ipython-input-13-f35777cf1440>:4: SettingWithCopyWarning: \n",
      "A value is trying to be set on a copy of a slice from a DataFrame\n",
      "\n",
      "See the caveats in the documentation: https://pandas.pydata.org/pandas-docs/stable/user_guide/indexing.html#returning-a-view-versus-a-copy\n",
      "  df_recipe['ingredient_category'][i] = 'veg'\n"
     ]
    }
   ],
   "source": [
    "for i in range(len(df_recipe)):\n",
    "    for c in range(len(veg_fruit)):\n",
    "                    if(df_recipe['ingredient_tags'][i]== veg_fruit[0][c]):\n",
    "                        df_recipe['ingredient_category'][i] = 'veg'\n",
    "                    else:\n",
    "                        continue"
   ]
  },
  {
   "cell_type": "code",
   "execution_count": 14,
   "metadata": {},
   "outputs": [],
   "source": [
    "#Matching for Dairy Products"
   ]
  },
  {
   "cell_type": "code",
   "execution_count": 15,
   "metadata": {},
   "outputs": [
    {
     "name": "stderr",
     "output_type": "stream",
     "text": [
      "<ipython-input-15-80bf831d2677>:4: SettingWithCopyWarning: \n",
      "A value is trying to be set on a copy of a slice from a DataFrame\n",
      "\n",
      "See the caveats in the documentation: https://pandas.pydata.org/pandas-docs/stable/user_guide/indexing.html#returning-a-view-versus-a-copy\n",
      "  df_recipe['ingredient_category'][i] = 'dairy'\n"
     ]
    }
   ],
   "source": [
    "for i in range(len(df_recipe)):\n",
    "    for d in range(len(dairy_list)):\n",
    "                    if(df_recipe['ingredient_tags'][i]== dairy_list['Dairy'][d]):\n",
    "                        df_recipe['ingredient_category'][i] = 'dairy'\n",
    "                    else:\n",
    "                        continue"
   ]
  },
  {
   "cell_type": "code",
   "execution_count": 16,
   "metadata": {},
   "outputs": [],
   "source": [
    "#Matching for fats and oils"
   ]
  },
  {
   "cell_type": "code",
   "execution_count": 17,
   "metadata": {},
   "outputs": [
    {
     "name": "stderr",
     "output_type": "stream",
     "text": [
      "<ipython-input-17-a310d6d8cafe>:4: SettingWithCopyWarning: \n",
      "A value is trying to be set on a copy of a slice from a DataFrame\n",
      "\n",
      "See the caveats in the documentation: https://pandas.pydata.org/pandas-docs/stable/user_guide/indexing.html#returning-a-view-versus-a-copy\n",
      "  df_recipe['ingredient_category'][i] = 'oil'\n"
     ]
    }
   ],
   "source": [
    "for i in range(len(df_recipe)):\n",
    "    for e in range(len(fatsoil)):\n",
    "                    if(df_recipe['ingredient_tags'][i]==fatsoil['Fat or oil'][e]):\n",
    "                        df_recipe['ingredient_category'][i] = 'oil'\n",
    "                    else:\n",
    "                        continue"
   ]
  },
  {
   "cell_type": "code",
   "execution_count": 18,
   "metadata": {},
   "outputs": [],
   "source": [
    "#Matching for Sugar"
   ]
  },
  {
   "cell_type": "code",
   "execution_count": 19,
   "metadata": {},
   "outputs": [
    {
     "name": "stderr",
     "output_type": "stream",
     "text": [
      "<ipython-input-19-b49e2f691ca5>:4: SettingWithCopyWarning: \n",
      "A value is trying to be set on a copy of a slice from a DataFrame\n",
      "\n",
      "See the caveats in the documentation: https://pandas.pydata.org/pandas-docs/stable/user_guide/indexing.html#returning-a-view-versus-a-copy\n",
      "  df_recipe['ingredient_category'][i] = 'sugar'\n"
     ]
    }
   ],
   "source": [
    "for i in range(len(df_recipe)):\n",
    "    for f in range(len(sugar_list)):\n",
    "                    if(df_recipe['ingredient_tags'][i]==sugar_list['sugar'][f]):\n",
    "                        df_recipe['ingredient_category'][i] = 'sugar'\n",
    "                    else:\n",
    "                        continue"
   ]
  },
  {
   "cell_type": "code",
   "execution_count": 20,
   "metadata": {},
   "outputs": [
    {
     "data": {
      "text/html": [
       "<div>\n",
       "<style scoped>\n",
       "    .dataframe tbody tr th:only-of-type {\n",
       "        vertical-align: middle;\n",
       "    }\n",
       "\n",
       "    .dataframe tbody tr th {\n",
       "        vertical-align: top;\n",
       "    }\n",
       "\n",
       "    .dataframe thead th {\n",
       "        text-align: right;\n",
       "    }\n",
       "</style>\n",
       "<table border=\"1\" class=\"dataframe\">\n",
       "  <thead>\n",
       "    <tr style=\"text-align: right;\">\n",
       "      <th></th>\n",
       "      <th>recipe_id</th>\n",
       "      <th>recipe_name</th>\n",
       "      <th>ingredient_tags</th>\n",
       "      <th>ingredient_category</th>\n",
       "    </tr>\n",
       "  </thead>\n",
       "  <tbody>\n",
       "  </tbody>\n",
       "</table>\n",
       "</div>"
      ],
      "text/plain": [
       "Empty DataFrame\n",
       "Columns: [recipe_id, recipe_name, ingredient_tags, ingredient_category]\n",
       "Index: []"
      ]
     },
     "execution_count": 20,
     "metadata": {},
     "output_type": "execute_result"
    }
   ],
   "source": [
    "#Matching for Saucy Recipe ID\n",
    "df_recipe[df_recipe['recipe_name'].str.contains('soup')]"
   ]
  },
  {
   "cell_type": "code",
   "execution_count": 21,
   "metadata": {},
   "outputs": [
    {
     "name": "stderr",
     "output_type": "stream",
     "text": [
      "<ipython-input-21-2e23fb75b7a1>:5: SettingWithCopyWarning: \n",
      "A value is trying to be set on a copy of a slice from a DataFrame\n",
      "\n",
      "See the caveats in the documentation: https://pandas.pydata.org/pandas-docs/stable/user_guide/indexing.html#returning-a-view-versus-a-copy\n",
      "  df_recipe['ingredient_category'][i] = 'saucy'\n",
      "C:\\Users\\Shaun\\anaconda3\\envs\\env_ISS\\lib\\site-packages\\IPython\\core\\interactiveshell.py:3437: SettingWithCopyWarning: \n",
      "A value is trying to be set on a copy of a slice from a DataFrame\n",
      "\n",
      "See the caveats in the documentation: https://pandas.pydata.org/pandas-docs/stable/user_guide/indexing.html#returning-a-view-versus-a-copy\n",
      "  exec(code_obj, self.user_global_ns, self.user_ns)\n"
     ]
    }
   ],
   "source": [
    "for i in range(len(df_recipe)):\n",
    "    for g in range(len(saucy)):\n",
    "        if(df_recipe['recipe_id'].iloc[i]==saucy[g]):\n",
    "            \n",
    "            df_recipe['ingredient_category'][i] = 'saucy'\n",
    "        else:\n",
    "            continue"
   ]
  },
  {
   "cell_type": "code",
   "execution_count": 22,
   "metadata": {},
   "outputs": [
    {
     "name": "stderr",
     "output_type": "stream",
     "text": [
      "C:\\Users\\Shaun\\anaconda3\\envs\\env_ISS\\lib\\site-packages\\pandas\\core\\series.py:4509: SettingWithCopyWarning: \n",
      "A value is trying to be set on a copy of a slice from a DataFrame\n",
      "\n",
      "See the caveats in the documentation: https://pandas.pydata.org/pandas-docs/stable/user_guide/indexing.html#returning-a-view-versus-a-copy\n",
      "  return super().replace(\n",
      "<ipython-input-22-b4a5eca32302>:7: SettingWithCopyWarning: \n",
      "A value is trying to be set on a copy of a slice from a DataFrame\n",
      "\n",
      "See the caveats in the documentation: https://pandas.pydata.org/pandas-docs/stable/user_guide/indexing.html#returning-a-view-versus-a-copy\n",
      "  df_recipe.dropna(subset = [\"ingredient_category\"], inplace=True)\n"
     ]
    }
   ],
   "source": [
    "#Drop blank values within dataframe\n",
    "\n",
    "nan_value = float(\"NaN\")\n",
    "\n",
    "df_recipe['ingredient_category'].replace(\"\", nan_value, inplace=True)\n",
    "\n",
    "df_recipe.dropna(subset = [\"ingredient_category\"], inplace=True)"
   ]
  },
  {
   "cell_type": "code",
   "execution_count": 23,
   "metadata": {},
   "outputs": [],
   "source": [
    "df_recipe.to_csv('recipe_category.csv')"
   ]
  },
  {
   "cell_type": "code",
   "execution_count": 24,
   "metadata": {},
   "outputs": [],
   "source": [
    "#Pivot the ingredients into counts of category"
   ]
  },
  {
   "cell_type": "code",
   "execution_count": 25,
   "metadata": {},
   "outputs": [
    {
     "data": {
      "text/html": [
       "<div>\n",
       "<style scoped>\n",
       "    .dataframe tbody tr th:only-of-type {\n",
       "        vertical-align: middle;\n",
       "    }\n",
       "\n",
       "    .dataframe tbody tr th {\n",
       "        vertical-align: top;\n",
       "    }\n",
       "\n",
       "    .dataframe thead th {\n",
       "        text-align: right;\n",
       "    }\n",
       "</style>\n",
       "<table border=\"1\" class=\"dataframe\">\n",
       "  <thead>\n",
       "    <tr style=\"text-align: right;\">\n",
       "      <th></th>\n",
       "      <th>recipe_id</th>\n",
       "      <th>ingredient_category</th>\n",
       "    </tr>\n",
       "  </thead>\n",
       "  <tbody>\n",
       "    <tr>\n",
       "      <th>0</th>\n",
       "      <td>222877</td>\n",
       "      <td>saucy</td>\n",
       "    </tr>\n",
       "    <tr>\n",
       "      <th>1</th>\n",
       "      <td>222877</td>\n",
       "      <td>saucy</td>\n",
       "    </tr>\n",
       "    <tr>\n",
       "      <th>2</th>\n",
       "      <td>222877</td>\n",
       "      <td>saucy</td>\n",
       "    </tr>\n",
       "    <tr>\n",
       "      <th>6</th>\n",
       "      <td>241509</td>\n",
       "      <td>sugar</td>\n",
       "    </tr>\n",
       "    <tr>\n",
       "      <th>8</th>\n",
       "      <td>241509</td>\n",
       "      <td>veg</td>\n",
       "    </tr>\n",
       "    <tr>\n",
       "      <th>...</th>\n",
       "      <td>...</td>\n",
       "      <td>...</td>\n",
       "    </tr>\n",
       "    <tr>\n",
       "      <th>3717</th>\n",
       "      <td>22225</td>\n",
       "      <td>dairy</td>\n",
       "    </tr>\n",
       "    <tr>\n",
       "      <th>3719</th>\n",
       "      <td>22225</td>\n",
       "      <td>dairy</td>\n",
       "    </tr>\n",
       "    <tr>\n",
       "      <th>3720</th>\n",
       "      <td>22225</td>\n",
       "      <td>dairy</td>\n",
       "    </tr>\n",
       "    <tr>\n",
       "      <th>3722</th>\n",
       "      <td>22225</td>\n",
       "      <td>sugar</td>\n",
       "    </tr>\n",
       "    <tr>\n",
       "      <th>3723</th>\n",
       "      <td>22225</td>\n",
       "      <td>dairy</td>\n",
       "    </tr>\n",
       "  </tbody>\n",
       "</table>\n",
       "<p>2287 rows × 2 columns</p>\n",
       "</div>"
      ],
      "text/plain": [
       "      recipe_id ingredient_category\n",
       "0        222877               saucy\n",
       "1        222877               saucy\n",
       "2        222877               saucy\n",
       "6        241509               sugar\n",
       "8        241509                 veg\n",
       "...         ...                 ...\n",
       "3717      22225               dairy\n",
       "3719      22225               dairy\n",
       "3720      22225               dairy\n",
       "3722      22225               sugar\n",
       "3723      22225               dairy\n",
       "\n",
       "[2287 rows x 2 columns]"
      ]
     },
     "execution_count": 25,
     "metadata": {},
     "output_type": "execute_result"
    }
   ],
   "source": [
    "df_category = df_recipe.drop(columns=['recipe_name','ingredient_tags'])\n",
    "df_category"
   ]
  },
  {
   "cell_type": "code",
   "execution_count": 26,
   "metadata": {},
   "outputs": [
    {
     "data": {
      "text/html": [
       "<div>\n",
       "<style scoped>\n",
       "    .dataframe tbody tr th:only-of-type {\n",
       "        vertical-align: middle;\n",
       "    }\n",
       "\n",
       "    .dataframe tbody tr th {\n",
       "        vertical-align: top;\n",
       "    }\n",
       "\n",
       "    .dataframe thead th {\n",
       "        text-align: right;\n",
       "    }\n",
       "</style>\n",
       "<table border=\"1\" class=\"dataframe\">\n",
       "  <thead>\n",
       "    <tr style=\"text-align: right;\">\n",
       "      <th>ingredient_category</th>\n",
       "      <th>carbs</th>\n",
       "      <th>dairy</th>\n",
       "      <th>meat</th>\n",
       "      <th>oil</th>\n",
       "      <th>saucy</th>\n",
       "      <th>sugar</th>\n",
       "      <th>veg</th>\n",
       "    </tr>\n",
       "    <tr>\n",
       "      <th>recipe_id</th>\n",
       "      <th></th>\n",
       "      <th></th>\n",
       "      <th></th>\n",
       "      <th></th>\n",
       "      <th></th>\n",
       "      <th></th>\n",
       "      <th></th>\n",
       "    </tr>\n",
       "  </thead>\n",
       "  <tbody>\n",
       "    <tr>\n",
       "      <th>6668</th>\n",
       "      <td>0.0</td>\n",
       "      <td>3.0</td>\n",
       "      <td>1.0</td>\n",
       "      <td>0.0</td>\n",
       "      <td>0.0</td>\n",
       "      <td>2.0</td>\n",
       "      <td>0.0</td>\n",
       "    </tr>\n",
       "    <tr>\n",
       "      <th>6681</th>\n",
       "      <td>0.0</td>\n",
       "      <td>1.0</td>\n",
       "      <td>1.0</td>\n",
       "      <td>1.0</td>\n",
       "      <td>0.0</td>\n",
       "      <td>1.0</td>\n",
       "      <td>0.0</td>\n",
       "    </tr>\n",
       "    <tr>\n",
       "      <th>6769</th>\n",
       "      <td>0.0</td>\n",
       "      <td>2.0</td>\n",
       "      <td>1.0</td>\n",
       "      <td>0.0</td>\n",
       "      <td>0.0</td>\n",
       "      <td>1.0</td>\n",
       "      <td>0.0</td>\n",
       "    </tr>\n",
       "    <tr>\n",
       "      <th>6869</th>\n",
       "      <td>0.0</td>\n",
       "      <td>3.0</td>\n",
       "      <td>1.0</td>\n",
       "      <td>1.0</td>\n",
       "      <td>0.0</td>\n",
       "      <td>2.0</td>\n",
       "      <td>0.0</td>\n",
       "    </tr>\n",
       "    <tr>\n",
       "      <th>7043</th>\n",
       "      <td>0.0</td>\n",
       "      <td>2.0</td>\n",
       "      <td>1.0</td>\n",
       "      <td>0.0</td>\n",
       "      <td>0.0</td>\n",
       "      <td>1.0</td>\n",
       "      <td>0.0</td>\n",
       "    </tr>\n",
       "    <tr>\n",
       "      <th>...</th>\n",
       "      <td>...</td>\n",
       "      <td>...</td>\n",
       "      <td>...</td>\n",
       "      <td>...</td>\n",
       "      <td>...</td>\n",
       "      <td>...</td>\n",
       "      <td>...</td>\n",
       "    </tr>\n",
       "    <tr>\n",
       "      <th>260502</th>\n",
       "      <td>1.0</td>\n",
       "      <td>1.0</td>\n",
       "      <td>1.0</td>\n",
       "      <td>1.0</td>\n",
       "      <td>0.0</td>\n",
       "      <td>0.0</td>\n",
       "      <td>4.0</td>\n",
       "    </tr>\n",
       "    <tr>\n",
       "      <th>260701</th>\n",
       "      <td>0.0</td>\n",
       "      <td>5.0</td>\n",
       "      <td>2.0</td>\n",
       "      <td>1.0</td>\n",
       "      <td>0.0</td>\n",
       "      <td>0.0</td>\n",
       "      <td>3.0</td>\n",
       "    </tr>\n",
       "    <tr>\n",
       "      <th>261105</th>\n",
       "      <td>0.0</td>\n",
       "      <td>0.0</td>\n",
       "      <td>0.0</td>\n",
       "      <td>0.0</td>\n",
       "      <td>9.0</td>\n",
       "      <td>0.0</td>\n",
       "      <td>0.0</td>\n",
       "    </tr>\n",
       "    <tr>\n",
       "      <th>261188</th>\n",
       "      <td>0.0</td>\n",
       "      <td>0.0</td>\n",
       "      <td>1.0</td>\n",
       "      <td>1.0</td>\n",
       "      <td>0.0</td>\n",
       "      <td>0.0</td>\n",
       "      <td>3.0</td>\n",
       "    </tr>\n",
       "    <tr>\n",
       "      <th>262395</th>\n",
       "      <td>0.0</td>\n",
       "      <td>0.0</td>\n",
       "      <td>0.0</td>\n",
       "      <td>2.0</td>\n",
       "      <td>0.0</td>\n",
       "      <td>1.0</td>\n",
       "      <td>2.0</td>\n",
       "    </tr>\n",
       "  </tbody>\n",
       "</table>\n",
       "<p>491 rows × 7 columns</p>\n",
       "</div>"
      ],
      "text/plain": [
       "ingredient_category  carbs  dairy  meat  oil  saucy  sugar  veg\n",
       "recipe_id                                                      \n",
       "6668                   0.0    3.0   1.0  0.0    0.0    2.0  0.0\n",
       "6681                   0.0    1.0   1.0  1.0    0.0    1.0  0.0\n",
       "6769                   0.0    2.0   1.0  0.0    0.0    1.0  0.0\n",
       "6869                   0.0    3.0   1.0  1.0    0.0    2.0  0.0\n",
       "7043                   0.0    2.0   1.0  0.0    0.0    1.0  0.0\n",
       "...                    ...    ...   ...  ...    ...    ...  ...\n",
       "260502                 1.0    1.0   1.0  1.0    0.0    0.0  4.0\n",
       "260701                 0.0    5.0   2.0  1.0    0.0    0.0  3.0\n",
       "261105                 0.0    0.0   0.0  0.0    9.0    0.0  0.0\n",
       "261188                 0.0    0.0   1.0  1.0    0.0    0.0  3.0\n",
       "262395                 0.0    0.0   0.0  2.0    0.0    1.0  2.0\n",
       "\n",
       "[491 rows x 7 columns]"
      ]
     },
     "execution_count": 26,
     "metadata": {},
     "output_type": "execute_result"
    }
   ],
   "source": [
    "df_pivot = df_category.pivot_table(index=\"recipe_id\",columns='ingredient_category', values=\"recipe_id\",aggfunc=lambda x: x.count())\n",
    "df_pivot = df_pivot.fillna(0)\n",
    "df_pivot"
   ]
  },
  {
   "cell_type": "code",
   "execution_count": 27,
   "metadata": {},
   "outputs": [],
   "source": [
    "df_pivot.to_csv('category_rules.csv')"
   ]
  },
  {
   "cell_type": "code",
   "execution_count": null,
   "metadata": {},
   "outputs": [],
   "source": []
  }
 ],
 "metadata": {
  "kernelspec": {
   "display_name": "Python 3",
   "language": "python",
   "name": "python3"
  },
  "language_info": {
   "codemirror_mode": {
    "name": "ipython",
    "version": 3
   },
   "file_extension": ".py",
   "mimetype": "text/x-python",
   "name": "python",
   "nbconvert_exporter": "python",
   "pygments_lexer": "ipython3",
   "version": "3.8.8"
  }
 },
 "nbformat": 4,
 "nbformat_minor": 4
}
