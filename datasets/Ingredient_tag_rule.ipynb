{
 "cells": [
  {
   "cell_type": "code",
   "execution_count": 1,
   "metadata": {},
   "outputs": [],
   "source": [
    "import pandas as pd"
   ]
  },
  {
   "cell_type": "code",
   "execution_count": 2,
   "metadata": {},
   "outputs": [
    {
     "data": {
      "text/html": [
       "<div>\n",
       "<style scoped>\n",
       "    .dataframe tbody tr th:only-of-type {\n",
       "        vertical-align: middle;\n",
       "    }\n",
       "\n",
       "    .dataframe tbody tr th {\n",
       "        vertical-align: top;\n",
       "    }\n",
       "\n",
       "    .dataframe thead th {\n",
       "        text-align: right;\n",
       "    }\n",
       "</style>\n",
       "<table border=\"1\" class=\"dataframe\">\n",
       "  <thead>\n",
       "    <tr style=\"text-align: right;\">\n",
       "      <th></th>\n",
       "      <th>Unnamed: 0</th>\n",
       "      <th>recipe_id</th>\n",
       "      <th>recipe_name</th>\n",
       "      <th>ingredients</th>\n",
       "      <th>ingredient_tags</th>\n",
       "    </tr>\n",
       "  </thead>\n",
       "  <tbody>\n",
       "    <tr>\n",
       "      <th>0</th>\n",
       "      <td>0</td>\n",
       "      <td>219933</td>\n",
       "      <td>Benny's Famous Jalapeno Poppers</td>\n",
       "      <td>cream cheese</td>\n",
       "      <td>cheese</td>\n",
       "    </tr>\n",
       "    <tr>\n",
       "      <th>1</th>\n",
       "      <td>1</td>\n",
       "      <td>219933</td>\n",
       "      <td>Benny's Famous Jalapeno Poppers</td>\n",
       "      <td>shredded Cheddar cheese</td>\n",
       "      <td>cheese</td>\n",
       "    </tr>\n",
       "    <tr>\n",
       "      <th>2</th>\n",
       "      <td>2</td>\n",
       "      <td>219933</td>\n",
       "      <td>Benny's Famous Jalapeno Poppers</td>\n",
       "      <td>fresh corn kernals</td>\n",
       "      <td>kernals</td>\n",
       "    </tr>\n",
       "    <tr>\n",
       "      <th>3</th>\n",
       "      <td>3</td>\n",
       "      <td>219933</td>\n",
       "      <td>Benny's Famous Jalapeno Poppers</td>\n",
       "      <td>salt and ground black pepper to taste</td>\n",
       "      <td>pepper</td>\n",
       "    </tr>\n",
       "    <tr>\n",
       "      <th>4</th>\n",
       "      <td>4</td>\n",
       "      <td>219933</td>\n",
       "      <td>Benny's Famous Jalapeno Poppers</td>\n",
       "      <td>fresh jalapeno peppers</td>\n",
       "      <td>peppers</td>\n",
       "    </tr>\n",
       "    <tr>\n",
       "      <th>...</th>\n",
       "      <td>...</td>\n",
       "      <td>...</td>\n",
       "      <td>...</td>\n",
       "      <td>...</td>\n",
       "      <td>...</td>\n",
       "    </tr>\n",
       "    <tr>\n",
       "      <th>4303</th>\n",
       "      <td>4493</td>\n",
       "      <td>228981</td>\n",
       "      <td>Sashimi Tuna Salad With Mint Lime Cilantro Dre...</td>\n",
       "      <td>fresh ahi (yellowfin) tuna steak</td>\n",
       "      <td>ahi</td>\n",
       "    </tr>\n",
       "    <tr>\n",
       "      <th>4304</th>\n",
       "      <td>4494</td>\n",
       "      <td>228981</td>\n",
       "      <td>Sashimi Tuna Salad With Mint Lime Cilantro Dre...</td>\n",
       "      <td>salt and ground black pepper to taste</td>\n",
       "      <td>pepper</td>\n",
       "    </tr>\n",
       "    <tr>\n",
       "      <th>4305</th>\n",
       "      <td>4496</td>\n",
       "      <td>24934</td>\n",
       "      <td>Whole Wheat Wraps</td>\n",
       "      <td>wheat flour</td>\n",
       "      <td>flour</td>\n",
       "    </tr>\n",
       "    <tr>\n",
       "      <th>4306</th>\n",
       "      <td>4497</td>\n",
       "      <td>24934</td>\n",
       "      <td>Whole Wheat Wraps</td>\n",
       "      <td>salt</td>\n",
       "      <td>salt</td>\n",
       "    </tr>\n",
       "    <tr>\n",
       "      <th>4307</th>\n",
       "      <td>4499</td>\n",
       "      <td>24934</td>\n",
       "      <td>Whole Wheat Wraps</td>\n",
       "      <td>warm water</td>\n",
       "      <td>water</td>\n",
       "    </tr>\n",
       "  </tbody>\n",
       "</table>\n",
       "<p>4308 rows × 5 columns</p>\n",
       "</div>"
      ],
      "text/plain": [
       "      Unnamed: 0  recipe_id  \\\n",
       "0              0     219933   \n",
       "1              1     219933   \n",
       "2              2     219933   \n",
       "3              3     219933   \n",
       "4              4     219933   \n",
       "...          ...        ...   \n",
       "4303        4493     228981   \n",
       "4304        4494     228981   \n",
       "4305        4496      24934   \n",
       "4306        4497      24934   \n",
       "4307        4499      24934   \n",
       "\n",
       "                                            recipe_name  \\\n",
       "0                       Benny's Famous Jalapeno Poppers   \n",
       "1                       Benny's Famous Jalapeno Poppers   \n",
       "2                       Benny's Famous Jalapeno Poppers   \n",
       "3                       Benny's Famous Jalapeno Poppers   \n",
       "4                       Benny's Famous Jalapeno Poppers   \n",
       "...                                                 ...   \n",
       "4303  Sashimi Tuna Salad With Mint Lime Cilantro Dre...   \n",
       "4304  Sashimi Tuna Salad With Mint Lime Cilantro Dre...   \n",
       "4305                                  Whole Wheat Wraps   \n",
       "4306                                  Whole Wheat Wraps   \n",
       "4307                                  Whole Wheat Wraps   \n",
       "\n",
       "                                ingredients ingredient_tags  \n",
       "0                              cream cheese          cheese  \n",
       "1                   shredded Cheddar cheese          cheese  \n",
       "2                        fresh corn kernals         kernals  \n",
       "3     salt and ground black pepper to taste          pepper  \n",
       "4                    fresh jalapeno peppers         peppers  \n",
       "...                                     ...             ...  \n",
       "4303       fresh ahi (yellowfin) tuna steak             ahi  \n",
       "4304  salt and ground black pepper to taste          pepper  \n",
       "4305                            wheat flour           flour  \n",
       "4306                                   salt            salt  \n",
       "4307                             warm water           water  \n",
       "\n",
       "[4308 rows x 5 columns]"
      ]
     },
     "execution_count": 2,
     "metadata": {},
     "output_type": "execute_result"
    }
   ],
   "source": [
    "df = pd.read_csv('recipe_ingredient_tag.csv')\n",
    "df"
   ]
  },
  {
   "cell_type": "markdown",
   "metadata": {},
   "source": [
    "Check for the 7 categories of ingredients: Carbs,Vegetables,Fruits,Meat,fats_oils,Dairy,Sweets/Sugar.\n",
    "\n",
    "Reference: https://www.sharecare.com/health/healthy-eating-guidelines/how-many-groups-food-classified\n",
    "\n",
    "Ingredient List - \n",
    "\n",
    "Carbs: https://en.wikipedia.org/wiki/Grain#Grains_and_cereal\n",
    "\n",
    "vegetable/Fruits: https://alphabetizer.flap.tv/lists/list-of-fruits-and-vegetables.php\n",
    "\n",
    "meat: https://www.listchallenges.com/meats-from-a-to-z\n",
    "\n",
    "dairy: https://en.wikipedia.org/wiki/List_of_dairy_products\n",
    "\n",
    "fats/oils: https://www.allinahealth.org/health-conditions-and-treatments/eat-healthy/nutrition-basics/understanding-cooking-fats-and-oils\n",
    "\n",
    "sweet/sugar: https://commonsensehealth.com/list-of-sugar-names-and-sugar-facts/#:~:text=Sugar%20Facts%20about%20Hidden%20Sugars&text=The%20most%20common%20names%20for,list%20with%2069%20sugar%20names."
   ]
  },
  {
   "cell_type": "markdown",
   "metadata": {},
   "source": [
    "Ingredients were scrapped through each website and put into separate files."
   ]
  },
  {
   "cell_type": "markdown",
   "metadata": {},
   "source": [
    "In addition, we have included a separate category for soupbase/saucy dishes, which will be used to classify recipes that user will tend to have with different moods. "
   ]
  },
  {
   "cell_type": "code",
   "execution_count": null,
   "metadata": {},
   "outputs": [],
   "source": [
    "saucy = [12996,13034,\n",
    "13063,\n",
    "16939,\n",
    "18855,\n",
    "19555,\n",
    "19766,\n",
    "21369,\n",
    "22271,\n",
    "22479,\n",
    "24403,\n",
    "24759,\n",
    "25939,\n",
    "50836,\n",
    "59343,\n",
    "74551,\n",
    "75431,\n",
    "83428,\n",
    "83548,\n",
    "89338,\n",
    "95753,\n",
    "130808,\n",
    "141549,\n",
    "159524,\n",
    "170270,\n",
    "192524,\n",
    "201143,\n",
    "213757,\n",
    "214706,\n",
    "216100,\n",
    "218178,\n",
    "220393,\n",
    "220460,\n",
    "222657,\n",
    "223275,\n",
    "230277,\n",
    "232791,\n",
    "234498,\n",
    "235862,\n",
    "236640,\n",
    "236731,\n",
    "239389,\n",
    "239893,\n",
    "240112,\n",
    "242411,\n",
    "245278,\n",
    "246563,\n",
    "254484,\n",
    "258600,\n",
    "260682,\n",
    "]"
   ]
  },
  {
   "cell_type": "code",
   "execution_count": 3,
   "metadata": {},
   "outputs": [],
   "source": [
    "carbs = pd.read_excel('ingredient data/Grain_list.xlsx',engine='openpyxl')\n",
    "veg_fruit = pd.read_csv('ingredient data/vegetable_fruits.txt',header=None)\n",
    "meat = pd.read_excel('ingredient data/Meats_list.xlsx',engine='openpyxl')\n",
    "dairy = pd.read_excel('ingredient data/Dairy_list.xlsx',engine='openpyxl')\n",
    "fatsoil = pd.read_excel('ingredient data/Oil_fat_list.xlsx',engine='openpyxl')\n",
    "sweet_sugar = pd.read_excel('ingredient data/SugarSweet_list.xlsx',engine='openpyxl')"
   ]
  },
  {
   "cell_type": "code",
   "execution_count": 4,
   "metadata": {},
   "outputs": [],
   "source": [
    "carbs = carbs.drop(['Field1_link'],axis=1)\n",
    "carbs['Field1'] = carbs['Field1'].str.lower()\n",
    "meat = meat.drop(['item-rank','Thumbnail'],axis=1)\n",
    "meat['item-name'] = meat['item-name'].str.lower()\n",
    "veg_fruit[0] = veg_fruit[0].str.lower()\n",
    "dairy1 = dairy['Field1'].str.split('\\n\\n\\n\\n', expand=True).stack().reset_index(level=-1, drop=True)\n",
    "dairy_list = pd.DataFrame({'Dairy':dairy1})\n",
    "dairy_list.reset_index(drop=True,inplace=True)\n",
    "dairy_list['Dairy']=dairy_list['Dairy'].str.lower()\n",
    "sweet_sugar = sweet_sugar.drop('Field2',axis=1)\n",
    "sugar1 = sweet_sugar['Field1'].str.split(' ', expand=True).stack().reset_index(level=-1, drop=True)\n",
    "sweet_sugar_list=pd.DataFrame({'sugar':sugar1})\n",
    "sugar2 = sweet_sugar_list['sugar'].str.split('\\n', expand=True).stack().reset_index(level=-1, drop=True)\n",
    "sugar_list=pd.DataFrame({'sugar':sugar2})\n",
    "sugar_list.reset_index(drop=True,inplace=True)\n",
    "sugar_list['sugar'] = sugar_list['sugar'].str.lower()"
   ]
  },
  {
   "cell_type": "code",
   "execution_count": 5,
   "metadata": {},
   "outputs": [],
   "source": [
    "df_recipe = df[['recipe_id','recipe_name','ingredient_tags']]"
   ]
  },
  {
   "cell_type": "code",
   "execution_count": 6,
   "metadata": {},
   "outputs": [
    {
     "name": "stderr",
     "output_type": "stream",
     "text": [
      "/home/ai-user/anaconda3/envs/py36/lib/python3.6/site-packages/ipykernel_launcher.py:1: SettingWithCopyWarning: \n",
      "A value is trying to be set on a copy of a slice from a DataFrame.\n",
      "Try using .loc[row_indexer,col_indexer] = value instead\n",
      "\n",
      "See the caveats in the documentation: https://pandas.pydata.org/pandas-docs/stable/user_guide/indexing.html#returning-a-view-versus-a-copy\n",
      "  \"\"\"Entry point for launching an IPython kernel.\n"
     ]
    }
   ],
   "source": [
    "df_recipe['ingredient_category']=\"\""
   ]
  },
  {
   "cell_type": "code",
   "execution_count": 7,
   "metadata": {},
   "outputs": [],
   "source": [
    "#Matching ingredient tags to ingredient list in order to get ingredient category"
   ]
  },
  {
   "cell_type": "code",
   "execution_count": 8,
   "metadata": {},
   "outputs": [
    {
     "name": "stderr",
     "output_type": "stream",
     "text": [
      "/home/ai-user/anaconda3/envs/py36/lib/python3.6/site-packages/ipykernel_launcher.py:6: SettingWithCopyWarning: \n",
      "A value is trying to be set on a copy of a slice from a DataFrame\n",
      "\n",
      "See the caveats in the documentation: https://pandas.pydata.org/pandas-docs/stable/user_guide/indexing.html#returning-a-view-versus-a-copy\n",
      "  \n",
      "/home/ai-user/anaconda3/envs/py36/lib/python3.6/site-packages/IPython/core/interactiveshell.py:3343: SettingWithCopyWarning: \n",
      "A value is trying to be set on a copy of a slice from a DataFrame\n",
      "\n",
      "See the caveats in the documentation: https://pandas.pydata.org/pandas-docs/stable/user_guide/indexing.html#returning-a-view-versus-a-copy\n",
      "  exec(code_obj, self.user_global_ns, self.user_ns)\n"
     ]
    }
   ],
   "source": [
    "#Find Carbs in ingredient list\n",
    "for i in range(len(df_recipe)):\n",
    "    for a in range(len(carbs)):\n",
    "        \n",
    "        if (df_recipe['ingredient_tags'][i] in carbs['Field1'][a]):\n",
    "            df_recipe['ingredient_category'][i] = 'carbs'\n",
    "        else:\n",
    "            continue\n",
    "            "
   ]
  },
  {
   "cell_type": "code",
   "execution_count": 9,
   "metadata": {},
   "outputs": [],
   "source": [
    "#Matching for Meat"
   ]
  },
  {
   "cell_type": "code",
   "execution_count": 10,
   "metadata": {},
   "outputs": [
    {
     "name": "stderr",
     "output_type": "stream",
     "text": [
      "/home/ai-user/anaconda3/envs/py36/lib/python3.6/site-packages/ipykernel_launcher.py:5: SettingWithCopyWarning: \n",
      "A value is trying to be set on a copy of a slice from a DataFrame\n",
      "\n",
      "See the caveats in the documentation: https://pandas.pydata.org/pandas-docs/stable/user_guide/indexing.html#returning-a-view-versus-a-copy\n",
      "  \"\"\"\n"
     ]
    }
   ],
   "source": [
    "for i in range(len(df_recipe)):\n",
    "\n",
    "    for b in range(len(meat)):\n",
    "                    if(df_recipe['ingredient_tags'][i]==meat['item-name'][b]):\n",
    "                        df_recipe['ingredient_category'][i] = 'meat'\n",
    "                    else:\n",
    "                        continue"
   ]
  },
  {
   "cell_type": "code",
   "execution_count": 11,
   "metadata": {},
   "outputs": [],
   "source": [
    "#Matching for Vegetables and Fruits"
   ]
  },
  {
   "cell_type": "code",
   "execution_count": 12,
   "metadata": {},
   "outputs": [
    {
     "name": "stderr",
     "output_type": "stream",
     "text": [
      "/home/ai-user/anaconda3/envs/py36/lib/python3.6/site-packages/ipykernel_launcher.py:4: SettingWithCopyWarning: \n",
      "A value is trying to be set on a copy of a slice from a DataFrame\n",
      "\n",
      "See the caveats in the documentation: https://pandas.pydata.org/pandas-docs/stable/user_guide/indexing.html#returning-a-view-versus-a-copy\n",
      "  after removing the cwd from sys.path.\n"
     ]
    }
   ],
   "source": [
    "for i in range(len(df_recipe)):\n",
    "    for c in range(len(veg_fruit)):\n",
    "                    if(df_recipe['ingredient_tags'][i]== veg_fruit[0][c]):\n",
    "                        df_recipe['ingredient_category'][i] = 'veg'\n",
    "                    else:\n",
    "                        continue"
   ]
  },
  {
   "cell_type": "code",
   "execution_count": 13,
   "metadata": {},
   "outputs": [],
   "source": [
    "#Matching for Dairy Products"
   ]
  },
  {
   "cell_type": "code",
   "execution_count": 14,
   "metadata": {},
   "outputs": [
    {
     "name": "stderr",
     "output_type": "stream",
     "text": [
      "/home/ai-user/anaconda3/envs/py36/lib/python3.6/site-packages/ipykernel_launcher.py:4: SettingWithCopyWarning: \n",
      "A value is trying to be set on a copy of a slice from a DataFrame\n",
      "\n",
      "See the caveats in the documentation: https://pandas.pydata.org/pandas-docs/stable/user_guide/indexing.html#returning-a-view-versus-a-copy\n",
      "  after removing the cwd from sys.path.\n"
     ]
    }
   ],
   "source": [
    "for i in range(len(df_recipe)):\n",
    "    for d in range(len(dairy_list)):\n",
    "                    if(df_recipe['ingredient_tags'][i]== dairy_list['Dairy'][d]):\n",
    "                        df_recipe['ingredient_category'][i] = 'dairy'\n",
    "                    else:\n",
    "                        continue"
   ]
  },
  {
   "cell_type": "code",
   "execution_count": 15,
   "metadata": {},
   "outputs": [],
   "source": [
    "#Matching for fats and oils"
   ]
  },
  {
   "cell_type": "code",
   "execution_count": 16,
   "metadata": {},
   "outputs": [
    {
     "name": "stderr",
     "output_type": "stream",
     "text": [
      "/home/ai-user/anaconda3/envs/py36/lib/python3.6/site-packages/ipykernel_launcher.py:4: SettingWithCopyWarning: \n",
      "A value is trying to be set on a copy of a slice from a DataFrame\n",
      "\n",
      "See the caveats in the documentation: https://pandas.pydata.org/pandas-docs/stable/user_guide/indexing.html#returning-a-view-versus-a-copy\n",
      "  after removing the cwd from sys.path.\n"
     ]
    }
   ],
   "source": [
    "for i in range(len(df_recipe)):\n",
    "    for e in range(len(fatsoil)):\n",
    "                    if(df_recipe['ingredient_tags'][i]==fatsoil['Fat or oil'][e]):\n",
    "                        df_recipe['ingredient_category'][i] = 'oil'\n",
    "                    else:\n",
    "                        continue"
   ]
  },
  {
   "cell_type": "code",
   "execution_count": 17,
   "metadata": {},
   "outputs": [],
   "source": [
    "#Matching for Sugar"
   ]
  },
  {
   "cell_type": "code",
   "execution_count": 18,
   "metadata": {},
   "outputs": [
    {
     "name": "stderr",
     "output_type": "stream",
     "text": [
      "/home/ai-user/anaconda3/envs/py36/lib/python3.6/site-packages/ipykernel_launcher.py:4: SettingWithCopyWarning: \n",
      "A value is trying to be set on a copy of a slice from a DataFrame\n",
      "\n",
      "See the caveats in the documentation: https://pandas.pydata.org/pandas-docs/stable/user_guide/indexing.html#returning-a-view-versus-a-copy\n",
      "  after removing the cwd from sys.path.\n"
     ]
    }
   ],
   "source": [
    "for i in range(len(df_recipe)):\n",
    "    for f in range(len(sugar_list)):\n",
    "                    if(df_recipe['ingredient_tags'][i]==sugar_list['sugar'][f]):\n",
    "                        df_recipe['ingredient_category'][i] = 'sugar'\n",
    "                    else:\n",
    "                        continue"
   ]
  },
  {
   "cell_type": "code",
   "execution_count": 19,
   "metadata": {},
   "outputs": [
    {
     "name": "stderr",
     "output_type": "stream",
     "text": [
      "/home/ai-user/anaconda3/envs/py36/lib/python3.6/site-packages/pandas/core/series.py:4582: SettingWithCopyWarning: \n",
      "A value is trying to be set on a copy of a slice from a DataFrame\n",
      "\n",
      "See the caveats in the documentation: https://pandas.pydata.org/pandas-docs/stable/user_guide/indexing.html#returning-a-view-versus-a-copy\n",
      "  method=method,\n",
      "/home/ai-user/anaconda3/envs/py36/lib/python3.6/site-packages/ipykernel_launcher.py:7: SettingWithCopyWarning: \n",
      "A value is trying to be set on a copy of a slice from a DataFrame\n",
      "\n",
      "See the caveats in the documentation: https://pandas.pydata.org/pandas-docs/stable/user_guide/indexing.html#returning-a-view-versus-a-copy\n",
      "  import sys\n"
     ]
    }
   ],
   "source": [
    "#Drop blank values within dataframe\n",
    "\n",
    "nan_value = float(\"NaN\")\n",
    "\n",
    "df_recipe['ingredient_category'].replace(\"\", nan_value, inplace=True)\n",
    "\n",
    "df_recipe.dropna(subset = [\"ingredient_category\"], inplace=True)"
   ]
  },
  {
   "cell_type": "code",
   "execution_count": 20,
   "metadata": {},
   "outputs": [],
   "source": [
    "df_recipe.to_csv('recipe_category.csv')"
   ]
  },
  {
   "cell_type": "code",
   "execution_count": 21,
   "metadata": {},
   "outputs": [],
   "source": [
    "#Pivot the ingredients into counts of category"
   ]
  },
  {
   "cell_type": "code",
   "execution_count": 22,
   "metadata": {},
   "outputs": [
    {
     "data": {
      "text/html": [
       "<div>\n",
       "<style scoped>\n",
       "    .dataframe tbody tr th:only-of-type {\n",
       "        vertical-align: middle;\n",
       "    }\n",
       "\n",
       "    .dataframe tbody tr th {\n",
       "        vertical-align: top;\n",
       "    }\n",
       "\n",
       "    .dataframe thead th {\n",
       "        text-align: right;\n",
       "    }\n",
       "</style>\n",
       "<table border=\"1\" class=\"dataframe\">\n",
       "  <thead>\n",
       "    <tr style=\"text-align: right;\">\n",
       "      <th></th>\n",
       "      <th>recipe_id</th>\n",
       "      <th>ingredient_category</th>\n",
       "    </tr>\n",
       "  </thead>\n",
       "  <tbody>\n",
       "    <tr>\n",
       "      <th>0</th>\n",
       "      <td>219933</td>\n",
       "      <td>dairy</td>\n",
       "    </tr>\n",
       "    <tr>\n",
       "      <th>1</th>\n",
       "      <td>219933</td>\n",
       "      <td>dairy</td>\n",
       "    </tr>\n",
       "    <tr>\n",
       "      <th>4</th>\n",
       "      <td>219933</td>\n",
       "      <td>veg</td>\n",
       "    </tr>\n",
       "    <tr>\n",
       "      <th>5</th>\n",
       "      <td>219933</td>\n",
       "      <td>meat</td>\n",
       "    </tr>\n",
       "    <tr>\n",
       "      <th>7</th>\n",
       "      <td>245278</td>\n",
       "      <td>meat</td>\n",
       "    </tr>\n",
       "    <tr>\n",
       "      <th>...</th>\n",
       "      <td>...</td>\n",
       "      <td>...</td>\n",
       "    </tr>\n",
       "    <tr>\n",
       "      <th>4297</th>\n",
       "      <td>228981</td>\n",
       "      <td>veg</td>\n",
       "    </tr>\n",
       "    <tr>\n",
       "      <th>4298</th>\n",
       "      <td>228981</td>\n",
       "      <td>veg</td>\n",
       "    </tr>\n",
       "    <tr>\n",
       "      <th>4300</th>\n",
       "      <td>228981</td>\n",
       "      <td>carbs</td>\n",
       "    </tr>\n",
       "    <tr>\n",
       "      <th>4301</th>\n",
       "      <td>228981</td>\n",
       "      <td>veg</td>\n",
       "    </tr>\n",
       "    <tr>\n",
       "      <th>4305</th>\n",
       "      <td>24934</td>\n",
       "      <td>dairy</td>\n",
       "    </tr>\n",
       "  </tbody>\n",
       "</table>\n",
       "<p>2055 rows × 2 columns</p>\n",
       "</div>"
      ],
      "text/plain": [
       "      recipe_id ingredient_category\n",
       "0        219933               dairy\n",
       "1        219933               dairy\n",
       "4        219933                 veg\n",
       "5        219933                meat\n",
       "7        245278                meat\n",
       "...         ...                 ...\n",
       "4297     228981                 veg\n",
       "4298     228981                 veg\n",
       "4300     228981               carbs\n",
       "4301     228981                 veg\n",
       "4305      24934               dairy\n",
       "\n",
       "[2055 rows x 2 columns]"
      ]
     },
     "execution_count": 22,
     "metadata": {},
     "output_type": "execute_result"
    }
   ],
   "source": [
    "df_category = df_recipe.drop(columns=['recipe_name','ingredient_tags'])\n",
    "df_category"
   ]
  },
  {
   "cell_type": "code",
   "execution_count": 23,
   "metadata": {},
   "outputs": [
    {
     "data": {
      "text/html": [
       "<div>\n",
       "<style scoped>\n",
       "    .dataframe tbody tr th:only-of-type {\n",
       "        vertical-align: middle;\n",
       "    }\n",
       "\n",
       "    .dataframe tbody tr th {\n",
       "        vertical-align: top;\n",
       "    }\n",
       "\n",
       "    .dataframe thead th {\n",
       "        text-align: right;\n",
       "    }\n",
       "</style>\n",
       "<table border=\"1\" class=\"dataframe\">\n",
       "  <thead>\n",
       "    <tr style=\"text-align: right;\">\n",
       "      <th>ingredient_category</th>\n",
       "      <th>carbs</th>\n",
       "      <th>dairy</th>\n",
       "      <th>meat</th>\n",
       "      <th>oil</th>\n",
       "      <th>sugar</th>\n",
       "      <th>veg</th>\n",
       "    </tr>\n",
       "    <tr>\n",
       "      <th>recipe_id</th>\n",
       "      <th></th>\n",
       "      <th></th>\n",
       "      <th></th>\n",
       "      <th></th>\n",
       "      <th></th>\n",
       "      <th></th>\n",
       "    </tr>\n",
       "  </thead>\n",
       "  <tbody>\n",
       "    <tr>\n",
       "      <th>6666</th>\n",
       "      <td>NaN</td>\n",
       "      <td>1.0</td>\n",
       "      <td>1.0</td>\n",
       "      <td>1.0</td>\n",
       "      <td>1.0</td>\n",
       "      <td>1.0</td>\n",
       "    </tr>\n",
       "    <tr>\n",
       "      <th>6742</th>\n",
       "      <td>NaN</td>\n",
       "      <td>2.0</td>\n",
       "      <td>NaN</td>\n",
       "      <td>NaN</td>\n",
       "      <td>NaN</td>\n",
       "      <td>1.0</td>\n",
       "    </tr>\n",
       "    <tr>\n",
       "      <th>6773</th>\n",
       "      <td>NaN</td>\n",
       "      <td>4.0</td>\n",
       "      <td>NaN</td>\n",
       "      <td>NaN</td>\n",
       "      <td>2.0</td>\n",
       "      <td>NaN</td>\n",
       "    </tr>\n",
       "    <tr>\n",
       "      <th>6791</th>\n",
       "      <td>NaN</td>\n",
       "      <td>2.0</td>\n",
       "      <td>1.0</td>\n",
       "      <td>NaN</td>\n",
       "      <td>1.0</td>\n",
       "      <td>1.0</td>\n",
       "    </tr>\n",
       "    <tr>\n",
       "      <th>6962</th>\n",
       "      <td>NaN</td>\n",
       "      <td>2.0</td>\n",
       "      <td>NaN</td>\n",
       "      <td>NaN</td>\n",
       "      <td>1.0</td>\n",
       "      <td>NaN</td>\n",
       "    </tr>\n",
       "    <tr>\n",
       "      <th>...</th>\n",
       "      <td>...</td>\n",
       "      <td>...</td>\n",
       "      <td>...</td>\n",
       "      <td>...</td>\n",
       "      <td>...</td>\n",
       "      <td>...</td>\n",
       "    </tr>\n",
       "    <tr>\n",
       "      <th>260312</th>\n",
       "      <td>NaN</td>\n",
       "      <td>1.0</td>\n",
       "      <td>NaN</td>\n",
       "      <td>NaN</td>\n",
       "      <td>NaN</td>\n",
       "      <td>NaN</td>\n",
       "    </tr>\n",
       "    <tr>\n",
       "      <th>260469</th>\n",
       "      <td>NaN</td>\n",
       "      <td>1.0</td>\n",
       "      <td>2.0</td>\n",
       "      <td>1.0</td>\n",
       "      <td>NaN</td>\n",
       "      <td>4.0</td>\n",
       "    </tr>\n",
       "    <tr>\n",
       "      <th>260679</th>\n",
       "      <td>NaN</td>\n",
       "      <td>4.0</td>\n",
       "      <td>1.0</td>\n",
       "      <td>NaN</td>\n",
       "      <td>2.0</td>\n",
       "      <td>NaN</td>\n",
       "    </tr>\n",
       "    <tr>\n",
       "      <th>260682</th>\n",
       "      <td>1.0</td>\n",
       "      <td>1.0</td>\n",
       "      <td>1.0</td>\n",
       "      <td>NaN</td>\n",
       "      <td>NaN</td>\n",
       "      <td>1.0</td>\n",
       "    </tr>\n",
       "    <tr>\n",
       "      <th>262355</th>\n",
       "      <td>1.0</td>\n",
       "      <td>1.0</td>\n",
       "      <td>NaN</td>\n",
       "      <td>1.0</td>\n",
       "      <td>NaN</td>\n",
       "      <td>1.0</td>\n",
       "    </tr>\n",
       "  </tbody>\n",
       "</table>\n",
       "<p>492 rows × 6 columns</p>\n",
       "</div>"
      ],
      "text/plain": [
       "ingredient_category  carbs  dairy  meat  oil  sugar  veg\n",
       "recipe_id                                               \n",
       "6666                   NaN    1.0   1.0  1.0    1.0  1.0\n",
       "6742                   NaN    2.0   NaN  NaN    NaN  1.0\n",
       "6773                   NaN    4.0   NaN  NaN    2.0  NaN\n",
       "6791                   NaN    2.0   1.0  NaN    1.0  1.0\n",
       "6962                   NaN    2.0   NaN  NaN    1.0  NaN\n",
       "...                    ...    ...   ...  ...    ...  ...\n",
       "260312                 NaN    1.0   NaN  NaN    NaN  NaN\n",
       "260469                 NaN    1.0   2.0  1.0    NaN  4.0\n",
       "260679                 NaN    4.0   1.0  NaN    2.0  NaN\n",
       "260682                 1.0    1.0   1.0  NaN    NaN  1.0\n",
       "262355                 1.0    1.0   NaN  1.0    NaN  1.0\n",
       "\n",
       "[492 rows x 6 columns]"
      ]
     },
     "execution_count": 23,
     "metadata": {},
     "output_type": "execute_result"
    }
   ],
   "source": [
    "df_pivot = df_category.pivot_table(index=\"recipe_id\",columns='ingredient_category', values=\"recipe_id\",aggfunc=lambda x: x.count())\n",
    "df_pivot"
   ]
  },
  {
   "cell_type": "code",
   "execution_count": 24,
   "metadata": {},
   "outputs": [],
   "source": [
    "df_pivot.to_csv('category_rules.csv')"
   ]
  },
  {
   "cell_type": "code",
   "execution_count": null,
   "metadata": {},
   "outputs": [],
   "source": []
  }
 ],
 "metadata": {
  "kernelspec": {
   "display_name": "Python 3",
   "language": "python",
   "name": "python3"
  },
  "language_info": {
   "codemirror_mode": {
    "name": "ipython",
    "version": 3
   },
   "file_extension": ".py",
   "mimetype": "text/x-python",
   "name": "python",
   "nbconvert_exporter": "python",
   "pygments_lexer": "ipython3",
   "version": "3.8.8"
  }
 },
 "nbformat": 4,
 "nbformat_minor": 4
}
