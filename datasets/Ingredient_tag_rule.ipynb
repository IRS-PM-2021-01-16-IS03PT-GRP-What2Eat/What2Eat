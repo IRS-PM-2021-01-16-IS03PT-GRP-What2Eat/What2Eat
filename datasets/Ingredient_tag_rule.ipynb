{
 "cells": [
  {
   "cell_type": "code",
   "execution_count": 1,
   "metadata": {},
   "outputs": [],
   "source": [
    "import pandas as pd"
   ]
  },
  {
   "cell_type": "code",
   "execution_count": 2,
   "metadata": {},
   "outputs": [
    {
     "data": {
      "text/html": [
       "<div>\n",
       "<style scoped>\n",
       "    .dataframe tbody tr th:only-of-type {\n",
       "        vertical-align: middle;\n",
       "    }\n",
       "\n",
       "    .dataframe tbody tr th {\n",
       "        vertical-align: top;\n",
       "    }\n",
       "\n",
       "    .dataframe thead th {\n",
       "        text-align: right;\n",
       "    }\n",
       "</style>\n",
       "<table border=\"1\" class=\"dataframe\">\n",
       "  <thead>\n",
       "    <tr style=\"text-align: right;\">\n",
       "      <th></th>\n",
       "      <th>Unnamed: 0</th>\n",
       "      <th>recipe_id</th>\n",
       "      <th>recipe_name</th>\n",
       "      <th>ingredients</th>\n",
       "      <th>ingredient_tags</th>\n",
       "    </tr>\n",
       "  </thead>\n",
       "  <tbody>\n",
       "    <tr>\n",
       "      <th>0</th>\n",
       "      <td>0</td>\n",
       "      <td>90295</td>\n",
       "      <td>Mom's Apple Fritters</td>\n",
       "      <td>quart vegetable oil for deep-frying</td>\n",
       "      <td>oil</td>\n",
       "    </tr>\n",
       "    <tr>\n",
       "      <th>1</th>\n",
       "      <td>1</td>\n",
       "      <td>90295</td>\n",
       "      <td>Mom's Apple Fritters</td>\n",
       "      <td>all-purpose flour</td>\n",
       "      <td>flour</td>\n",
       "    </tr>\n",
       "    <tr>\n",
       "      <th>2</th>\n",
       "      <td>2</td>\n",
       "      <td>90295</td>\n",
       "      <td>Mom's Apple Fritters</td>\n",
       "      <td>white sugar</td>\n",
       "      <td>sugar</td>\n",
       "    </tr>\n",
       "    <tr>\n",
       "      <th>3</th>\n",
       "      <td>4</td>\n",
       "      <td>90295</td>\n",
       "      <td>Mom's Apple Fritters</td>\n",
       "      <td>salt</td>\n",
       "      <td>salt</td>\n",
       "    </tr>\n",
       "    <tr>\n",
       "      <th>4</th>\n",
       "      <td>5</td>\n",
       "      <td>90295</td>\n",
       "      <td>Mom's Apple Fritters</td>\n",
       "      <td>milk</td>\n",
       "      <td>milk</td>\n",
       "    </tr>\n",
       "    <tr>\n",
       "      <th>...</th>\n",
       "      <td>...</td>\n",
       "      <td>...</td>\n",
       "      <td>...</td>\n",
       "      <td>...</td>\n",
       "      <td>...</td>\n",
       "    </tr>\n",
       "    <tr>\n",
       "      <th>4443</th>\n",
       "      <td>4623</td>\n",
       "      <td>220219</td>\n",
       "      <td>Shrimp, Sausage, and Fish Jambalaya</td>\n",
       "      <td>medium-grain rice</td>\n",
       "      <td>rice</td>\n",
       "    </tr>\n",
       "    <tr>\n",
       "      <th>4444</th>\n",
       "      <td>4624</td>\n",
       "      <td>220219</td>\n",
       "      <td>Shrimp, Sausage, and Fish Jambalaya</td>\n",
       "      <td>shrimp</td>\n",
       "      <td>shrimp</td>\n",
       "    </tr>\n",
       "    <tr>\n",
       "      <th>4445</th>\n",
       "      <td>4625</td>\n",
       "      <td>220219</td>\n",
       "      <td>Shrimp, Sausage, and Fish Jambalaya</td>\n",
       "      <td>cod fillets cut into 1 1/2-inch chunks (optional)</td>\n",
       "      <td>cod</td>\n",
       "    </tr>\n",
       "    <tr>\n",
       "      <th>4446</th>\n",
       "      <td>4626</td>\n",
       "      <td>220219</td>\n",
       "      <td>Shrimp, Sausage, and Fish Jambalaya</td>\n",
       "      <td>salt to taste</td>\n",
       "      <td>salt</td>\n",
       "    </tr>\n",
       "    <tr>\n",
       "      <th>4447</th>\n",
       "      <td>4627</td>\n",
       "      <td>220219</td>\n",
       "      <td>Shrimp, Sausage, and Fish Jambalaya</td>\n",
       "      <td>chopped fresh parsley</td>\n",
       "      <td>parsley</td>\n",
       "    </tr>\n",
       "  </tbody>\n",
       "</table>\n",
       "<p>4448 rows × 5 columns</p>\n",
       "</div>"
      ],
      "text/plain": [
       "      Unnamed: 0  recipe_id                          recipe_name  \\\n",
       "0              0      90295                 Mom's Apple Fritters   \n",
       "1              1      90295                 Mom's Apple Fritters   \n",
       "2              2      90295                 Mom's Apple Fritters   \n",
       "3              4      90295                 Mom's Apple Fritters   \n",
       "4              5      90295                 Mom's Apple Fritters   \n",
       "...          ...        ...                                  ...   \n",
       "4443        4623     220219  Shrimp, Sausage, and Fish Jambalaya   \n",
       "4444        4624     220219  Shrimp, Sausage, and Fish Jambalaya   \n",
       "4445        4625     220219  Shrimp, Sausage, and Fish Jambalaya   \n",
       "4446        4626     220219  Shrimp, Sausage, and Fish Jambalaya   \n",
       "4447        4627     220219  Shrimp, Sausage, and Fish Jambalaya   \n",
       "\n",
       "                                            ingredients ingredient_tags  \n",
       "0                   quart vegetable oil for deep-frying             oil  \n",
       "1                                     all-purpose flour           flour  \n",
       "2                                           white sugar           sugar  \n",
       "3                                                  salt            salt  \n",
       "4                                                  milk            milk  \n",
       "...                                                 ...             ...  \n",
       "4443                                  medium-grain rice            rice  \n",
       "4444                                             shrimp          shrimp  \n",
       "4445  cod fillets cut into 1 1/2-inch chunks (optional)             cod  \n",
       "4446                                      salt to taste            salt  \n",
       "4447                              chopped fresh parsley         parsley  \n",
       "\n",
       "[4448 rows x 5 columns]"
      ]
     },
     "execution_count": 2,
     "metadata": {},
     "output_type": "execute_result"
    }
   ],
   "source": [
    "df = pd.read_csv('recipe_ingredient_tag.csv')\n",
    "df"
   ]
  },
  {
   "cell_type": "markdown",
   "metadata": {},
   "source": [
    "Check for the 7 categories of ingredients: Carbs,Vegetables,Fruits,Meat,fats_oils,Dairy,Sweets/Sugar.\n",
    "\n",
    "Reference: https://www.sharecare.com/health/healthy-eating-guidelines/how-many-groups-food-classified\n",
    "\n",
    "Ingredient List - \n",
    "\n",
    "Carbs: https://en.wikipedia.org/wiki/Grain#Grains_and_cereal\n",
    "\n",
    "vegetable/Fruits: https://alphabetizer.flap.tv/lists/list-of-fruits-and-vegetables.php\n",
    "\n",
    "meat: https://www.listchallenges.com/meats-from-a-to-z\n",
    "\n",
    "dairy: https://en.wikipedia.org/wiki/List_of_dairy_products\n",
    "\n",
    "fats/oils: https://www.allinahealth.org/health-conditions-and-treatments/eat-healthy/nutrition-basics/understanding-cooking-fats-and-oils\n",
    "\n",
    "sweet/sugar: https://commonsensehealth.com/list-of-sugar-names-and-sugar-facts/#:~:text=Sugar%20Facts%20about%20Hidden%20Sugars&text=The%20most%20common%20names%20for,list%20with%2069%20sugar%20names."
   ]
  },
  {
   "cell_type": "markdown",
   "metadata": {},
   "source": [
    "Ingredients were scrapped through each website and put into separate files."
   ]
  },
  {
   "cell_type": "code",
   "execution_count": 3,
   "metadata": {},
   "outputs": [],
   "source": [
    "carbs = pd.read_excel('ingredient data/Grain_list.xlsx',engine='openpyxl')\n",
    "veg_fruit = pd.read_csv('ingredient data/vegetable_fruits.txt',header=None)\n",
    "meat = pd.read_excel('ingredient data/Meats_list.xlsx',engine='openpyxl')\n",
    "dairy = pd.read_excel('ingredient data/Dairy_list.xlsx',engine='openpyxl')\n",
    "fatsoil = pd.read_excel('ingredient data/Oil_fat_list.xlsx',engine='openpyxl')\n",
    "sweet_sugar = pd.read_excel('ingredient data/SugarSweet_list.xlsx',engine='openpyxl')"
   ]
  },
  {
   "cell_type": "code",
   "execution_count": 4,
   "metadata": {},
   "outputs": [],
   "source": [
    "carbs = carbs.drop(['Field1_link'],axis=1)\n",
    "carbs['Field1'] = carbs['Field1'].str.lower()\n",
    "meat = meat.drop(['item-rank','Thumbnail'],axis=1)\n",
    "meat['item-name'] = meat['item-name'].str.lower()\n",
    "veg_fruit[0] = veg_fruit[0].str.lower()\n",
    "dairy1 = dairy['Field1'].str.split('\\n\\n\\n\\n', expand=True).stack().reset_index(level=-1, drop=True)\n",
    "dairy_list = pd.DataFrame({'Dairy':dairy1})\n",
    "dairy_list.reset_index(drop=True,inplace=True)\n",
    "dairy_list['Dairy']=dairy_list['Dairy'].str.lower()\n",
    "sweet_sugar = sweet_sugar.drop('Field2',axis=1)\n",
    "sugar1 = sweet_sugar['Field1'].str.split(' ', expand=True).stack().reset_index(level=-1, drop=True)\n",
    "sweet_sugar_list=pd.DataFrame({'sugar':sugar1})\n",
    "sugar2 = sweet_sugar_list['sugar'].str.split('\\n', expand=True).stack().reset_index(level=-1, drop=True)\n",
    "sugar_list=pd.DataFrame({'sugar':sugar2})\n",
    "sugar_list.reset_index(drop=True,inplace=True)\n",
    "sugar_list['sugar'] = sugar_list['sugar'].str.lower()"
   ]
  },
  {
   "cell_type": "code",
   "execution_count": 5,
   "metadata": {},
   "outputs": [],
   "source": [
    "df_recipe = df[['recipe_id','recipe_name','ingredient_tags']]"
   ]
  },
  {
   "cell_type": "code",
   "execution_count": 6,
   "metadata": {},
   "outputs": [
    {
     "name": "stderr",
     "output_type": "stream",
     "text": [
      "/home/ai-user/anaconda3/envs/py36/lib/python3.6/site-packages/ipykernel_launcher.py:1: SettingWithCopyWarning: \n",
      "A value is trying to be set on a copy of a slice from a DataFrame.\n",
      "Try using .loc[row_indexer,col_indexer] = value instead\n",
      "\n",
      "See the caveats in the documentation: https://pandas.pydata.org/pandas-docs/stable/user_guide/indexing.html#returning-a-view-versus-a-copy\n",
      "  \"\"\"Entry point for launching an IPython kernel.\n"
     ]
    }
   ],
   "source": [
    "df_recipe['ingredient_category']=\"\""
   ]
  },
  {
   "cell_type": "code",
   "execution_count": 7,
   "metadata": {},
   "outputs": [],
   "source": [
    "#Matching ingredient tags to ingredient list in order to get ingredient category"
   ]
  },
  {
   "cell_type": "code",
   "execution_count": 8,
   "metadata": {},
   "outputs": [
    {
     "name": "stderr",
     "output_type": "stream",
     "text": [
      "/home/ai-user/anaconda3/envs/py36/lib/python3.6/site-packages/ipykernel_launcher.py:6: SettingWithCopyWarning: \n",
      "A value is trying to be set on a copy of a slice from a DataFrame\n",
      "\n",
      "See the caveats in the documentation: https://pandas.pydata.org/pandas-docs/stable/user_guide/indexing.html#returning-a-view-versus-a-copy\n",
      "  \n",
      "/home/ai-user/anaconda3/envs/py36/lib/python3.6/site-packages/IPython/core/interactiveshell.py:3343: SettingWithCopyWarning: \n",
      "A value is trying to be set on a copy of a slice from a DataFrame\n",
      "\n",
      "See the caveats in the documentation: https://pandas.pydata.org/pandas-docs/stable/user_guide/indexing.html#returning-a-view-versus-a-copy\n",
      "  exec(code_obj, self.user_global_ns, self.user_ns)\n"
     ]
    }
   ],
   "source": [
    "#Find Carbs in ingredient list\n",
    "for i in range(len(df_recipe)):\n",
    "    for a in range(len(carbs)):\n",
    "        \n",
    "        if (df_recipe['ingredient_tags'][i] in carbs['Field1'][a]):\n",
    "            df_recipe['ingredient_category'][i] = 'carbs'\n",
    "        else:\n",
    "            continue\n",
    "            "
   ]
  },
  {
   "cell_type": "code",
   "execution_count": 9,
   "metadata": {},
   "outputs": [],
   "source": [
    "#Matching for Meat"
   ]
  },
  {
   "cell_type": "code",
   "execution_count": 10,
   "metadata": {},
   "outputs": [
    {
     "name": "stderr",
     "output_type": "stream",
     "text": [
      "/home/ai-user/anaconda3/envs/py36/lib/python3.6/site-packages/ipykernel_launcher.py:5: SettingWithCopyWarning: \n",
      "A value is trying to be set on a copy of a slice from a DataFrame\n",
      "\n",
      "See the caveats in the documentation: https://pandas.pydata.org/pandas-docs/stable/user_guide/indexing.html#returning-a-view-versus-a-copy\n",
      "  \"\"\"\n"
     ]
    }
   ],
   "source": [
    "for i in range(len(df_recipe)):\n",
    "\n",
    "    for b in range(len(meat)):\n",
    "                    if(df_recipe['ingredient_tags'][i]==meat['item-name'][b]):\n",
    "                        df_recipe['ingredient_category'][i] = 'meat'\n",
    "                    else:\n",
    "                        continue"
   ]
  },
  {
   "cell_type": "code",
   "execution_count": 11,
   "metadata": {},
   "outputs": [],
   "source": [
    "#Matching for Vegetables and Fruits"
   ]
  },
  {
   "cell_type": "code",
   "execution_count": 12,
   "metadata": {},
   "outputs": [
    {
     "name": "stderr",
     "output_type": "stream",
     "text": [
      "/home/ai-user/anaconda3/envs/py36/lib/python3.6/site-packages/ipykernel_launcher.py:4: SettingWithCopyWarning: \n",
      "A value is trying to be set on a copy of a slice from a DataFrame\n",
      "\n",
      "See the caveats in the documentation: https://pandas.pydata.org/pandas-docs/stable/user_guide/indexing.html#returning-a-view-versus-a-copy\n",
      "  after removing the cwd from sys.path.\n"
     ]
    }
   ],
   "source": [
    "for i in range(len(df_recipe)):\n",
    "    for c in range(len(veg_fruit)):\n",
    "                    if(df_recipe['ingredient_tags'][i]== veg_fruit[0][c]):\n",
    "                        df_recipe['ingredient_category'][i] = 'veg'\n",
    "                    else:\n",
    "                        continue"
   ]
  },
  {
   "cell_type": "code",
   "execution_count": 13,
   "metadata": {},
   "outputs": [],
   "source": [
    "#Matching for Dairy Products"
   ]
  },
  {
   "cell_type": "code",
   "execution_count": 14,
   "metadata": {},
   "outputs": [
    {
     "name": "stderr",
     "output_type": "stream",
     "text": [
      "/home/ai-user/anaconda3/envs/py36/lib/python3.6/site-packages/ipykernel_launcher.py:4: SettingWithCopyWarning: \n",
      "A value is trying to be set on a copy of a slice from a DataFrame\n",
      "\n",
      "See the caveats in the documentation: https://pandas.pydata.org/pandas-docs/stable/user_guide/indexing.html#returning-a-view-versus-a-copy\n",
      "  after removing the cwd from sys.path.\n"
     ]
    }
   ],
   "source": [
    "for i in range(len(df_recipe)):\n",
    "    for d in range(len(dairy_list)):\n",
    "                    if(df_recipe['ingredient_tags'][i]== dairy_list['Dairy'][d]):\n",
    "                        df_recipe['ingredient_category'][i] = 'dairy'\n",
    "                    else:\n",
    "                        continue"
   ]
  },
  {
   "cell_type": "code",
   "execution_count": 15,
   "metadata": {},
   "outputs": [],
   "source": [
    "#Matching for fats and oils"
   ]
  },
  {
   "cell_type": "code",
   "execution_count": 16,
   "metadata": {},
   "outputs": [
    {
     "name": "stderr",
     "output_type": "stream",
     "text": [
      "/home/ai-user/anaconda3/envs/py36/lib/python3.6/site-packages/ipykernel_launcher.py:4: SettingWithCopyWarning: \n",
      "A value is trying to be set on a copy of a slice from a DataFrame\n",
      "\n",
      "See the caveats in the documentation: https://pandas.pydata.org/pandas-docs/stable/user_guide/indexing.html#returning-a-view-versus-a-copy\n",
      "  after removing the cwd from sys.path.\n"
     ]
    }
   ],
   "source": [
    "for i in range(len(df_recipe)):\n",
    "    for e in range(len(fatsoil)):\n",
    "                    if(df_recipe['ingredient_tags'][i]==fatsoil['Fat or oil'][e]):\n",
    "                        df_recipe['ingredient_category'][i] = 'oil'\n",
    "                    else:\n",
    "                        continue"
   ]
  },
  {
   "cell_type": "code",
   "execution_count": 17,
   "metadata": {},
   "outputs": [],
   "source": [
    "#Matching for Sugar"
   ]
  },
  {
   "cell_type": "code",
   "execution_count": 18,
   "metadata": {},
   "outputs": [
    {
     "name": "stderr",
     "output_type": "stream",
     "text": [
      "/home/ai-user/anaconda3/envs/py36/lib/python3.6/site-packages/ipykernel_launcher.py:4: SettingWithCopyWarning: \n",
      "A value is trying to be set on a copy of a slice from a DataFrame\n",
      "\n",
      "See the caveats in the documentation: https://pandas.pydata.org/pandas-docs/stable/user_guide/indexing.html#returning-a-view-versus-a-copy\n",
      "  after removing the cwd from sys.path.\n"
     ]
    }
   ],
   "source": [
    "for i in range(len(df_recipe)):\n",
    "    for f in range(len(sugar_list)):\n",
    "                    if(df_recipe['ingredient_tags'][i]==sugar_list['sugar'][f]):\n",
    "                        df_recipe['ingredient_category'][i] = 'sugar'\n",
    "                    else:\n",
    "                        continue"
   ]
  },
  {
   "cell_type": "code",
   "execution_count": 19,
   "metadata": {},
   "outputs": [
    {
     "name": "stderr",
     "output_type": "stream",
     "text": [
      "/home/ai-user/anaconda3/envs/py36/lib/python3.6/site-packages/pandas/core/series.py:4582: SettingWithCopyWarning: \n",
      "A value is trying to be set on a copy of a slice from a DataFrame\n",
      "\n",
      "See the caveats in the documentation: https://pandas.pydata.org/pandas-docs/stable/user_guide/indexing.html#returning-a-view-versus-a-copy\n",
      "  method=method,\n",
      "/home/ai-user/anaconda3/envs/py36/lib/python3.6/site-packages/ipykernel_launcher.py:7: SettingWithCopyWarning: \n",
      "A value is trying to be set on a copy of a slice from a DataFrame\n",
      "\n",
      "See the caveats in the documentation: https://pandas.pydata.org/pandas-docs/stable/user_guide/indexing.html#returning-a-view-versus-a-copy\n",
      "  import sys\n"
     ]
    }
   ],
   "source": [
    "#Drop blank values within dataframe\n",
    "\n",
    "nan_value = float(\"NaN\")\n",
    "\n",
    "df_recipe['ingredient_category'].replace(\"\", nan_value, inplace=True)\n",
    "\n",
    "df_recipe.dropna(subset = [\"ingredient_category\"], inplace=True)"
   ]
  },
  {
   "cell_type": "code",
   "execution_count": 20,
   "metadata": {},
   "outputs": [],
   "source": [
    "df_recipe.to_csv('recipe_category.csv')"
   ]
  },
  {
   "cell_type": "code",
   "execution_count": 21,
   "metadata": {},
   "outputs": [],
   "source": [
    "#Pivot the ingredients into counts of category"
   ]
  },
  {
   "cell_type": "code",
   "execution_count": 22,
   "metadata": {},
   "outputs": [
    {
     "data": {
      "text/html": [
       "<div>\n",
       "<style scoped>\n",
       "    .dataframe tbody tr th:only-of-type {\n",
       "        vertical-align: middle;\n",
       "    }\n",
       "\n",
       "    .dataframe tbody tr th {\n",
       "        vertical-align: top;\n",
       "    }\n",
       "\n",
       "    .dataframe thead th {\n",
       "        text-align: right;\n",
       "    }\n",
       "</style>\n",
       "<table border=\"1\" class=\"dataframe\">\n",
       "  <thead>\n",
       "    <tr style=\"text-align: right;\">\n",
       "      <th></th>\n",
       "      <th>recipe_id</th>\n",
       "      <th>ingredient_category</th>\n",
       "    </tr>\n",
       "  </thead>\n",
       "  <tbody>\n",
       "    <tr>\n",
       "      <th>0</th>\n",
       "      <td>90295</td>\n",
       "      <td>oil</td>\n",
       "    </tr>\n",
       "    <tr>\n",
       "      <th>1</th>\n",
       "      <td>90295</td>\n",
       "      <td>dairy</td>\n",
       "    </tr>\n",
       "    <tr>\n",
       "      <th>2</th>\n",
       "      <td>90295</td>\n",
       "      <td>sugar</td>\n",
       "    </tr>\n",
       "    <tr>\n",
       "      <th>4</th>\n",
       "      <td>90295</td>\n",
       "      <td>dairy</td>\n",
       "    </tr>\n",
       "    <tr>\n",
       "      <th>6</th>\n",
       "      <td>90295</td>\n",
       "      <td>oil</td>\n",
       "    </tr>\n",
       "    <tr>\n",
       "      <th>...</th>\n",
       "      <td>...</td>\n",
       "      <td>...</td>\n",
       "    </tr>\n",
       "    <tr>\n",
       "      <th>4437</th>\n",
       "      <td>220219</td>\n",
       "      <td>veg</td>\n",
       "    </tr>\n",
       "    <tr>\n",
       "      <th>4442</th>\n",
       "      <td>220219</td>\n",
       "      <td>meat</td>\n",
       "    </tr>\n",
       "    <tr>\n",
       "      <th>4443</th>\n",
       "      <td>220219</td>\n",
       "      <td>sugar</td>\n",
       "    </tr>\n",
       "    <tr>\n",
       "      <th>4444</th>\n",
       "      <td>220219</td>\n",
       "      <td>meat</td>\n",
       "    </tr>\n",
       "    <tr>\n",
       "      <th>4445</th>\n",
       "      <td>220219</td>\n",
       "      <td>meat</td>\n",
       "    </tr>\n",
       "  </tbody>\n",
       "</table>\n",
       "<p>2144 rows × 2 columns</p>\n",
       "</div>"
      ],
      "text/plain": [
       "      recipe_id ingredient_category\n",
       "0         90295                 oil\n",
       "1         90295               dairy\n",
       "2         90295               sugar\n",
       "4         90295               dairy\n",
       "6         90295                 oil\n",
       "...         ...                 ...\n",
       "4437     220219                 veg\n",
       "4442     220219                meat\n",
       "4443     220219               sugar\n",
       "4444     220219                meat\n",
       "4445     220219                meat\n",
       "\n",
       "[2144 rows x 2 columns]"
      ]
     },
     "execution_count": 22,
     "metadata": {},
     "output_type": "execute_result"
    }
   ],
   "source": [
    "df_category = df_recipe.drop(columns=['recipe_name','ingredient_tags'])\n",
    "df_category"
   ]
  },
  {
   "cell_type": "code",
   "execution_count": 23,
   "metadata": {},
   "outputs": [
    {
     "data": {
      "text/html": [
       "<div>\n",
       "<style scoped>\n",
       "    .dataframe tbody tr th:only-of-type {\n",
       "        vertical-align: middle;\n",
       "    }\n",
       "\n",
       "    .dataframe tbody tr th {\n",
       "        vertical-align: top;\n",
       "    }\n",
       "\n",
       "    .dataframe thead th {\n",
       "        text-align: right;\n",
       "    }\n",
       "</style>\n",
       "<table border=\"1\" class=\"dataframe\">\n",
       "  <thead>\n",
       "    <tr style=\"text-align: right;\">\n",
       "      <th>ingredient_category</th>\n",
       "      <th>carbs</th>\n",
       "      <th>dairy</th>\n",
       "      <th>meat</th>\n",
       "      <th>oil</th>\n",
       "      <th>sugar</th>\n",
       "      <th>veg</th>\n",
       "    </tr>\n",
       "    <tr>\n",
       "      <th>recipe_id</th>\n",
       "      <th></th>\n",
       "      <th></th>\n",
       "      <th></th>\n",
       "      <th></th>\n",
       "      <th></th>\n",
       "      <th></th>\n",
       "    </tr>\n",
       "  </thead>\n",
       "  <tbody>\n",
       "    <tr>\n",
       "      <th>6691</th>\n",
       "      <td>NaN</td>\n",
       "      <td>3.0</td>\n",
       "      <td>NaN</td>\n",
       "      <td>1.0</td>\n",
       "      <td>1.0</td>\n",
       "      <td>NaN</td>\n",
       "    </tr>\n",
       "    <tr>\n",
       "      <th>6803</th>\n",
       "      <td>NaN</td>\n",
       "      <td>1.0</td>\n",
       "      <td>1.0</td>\n",
       "      <td>1.0</td>\n",
       "      <td>1.0</td>\n",
       "      <td>NaN</td>\n",
       "    </tr>\n",
       "    <tr>\n",
       "      <th>6916</th>\n",
       "      <td>NaN</td>\n",
       "      <td>3.0</td>\n",
       "      <td>NaN</td>\n",
       "      <td>1.0</td>\n",
       "      <td>2.0</td>\n",
       "      <td>NaN</td>\n",
       "    </tr>\n",
       "    <tr>\n",
       "      <th>7030</th>\n",
       "      <td>1.0</td>\n",
       "      <td>5.0</td>\n",
       "      <td>NaN</td>\n",
       "      <td>NaN</td>\n",
       "      <td>2.0</td>\n",
       "      <td>NaN</td>\n",
       "    </tr>\n",
       "    <tr>\n",
       "      <th>7037</th>\n",
       "      <td>NaN</td>\n",
       "      <td>3.0</td>\n",
       "      <td>NaN</td>\n",
       "      <td>NaN</td>\n",
       "      <td>1.0</td>\n",
       "      <td>NaN</td>\n",
       "    </tr>\n",
       "    <tr>\n",
       "      <th>...</th>\n",
       "      <td>...</td>\n",
       "      <td>...</td>\n",
       "      <td>...</td>\n",
       "      <td>...</td>\n",
       "      <td>...</td>\n",
       "      <td>...</td>\n",
       "    </tr>\n",
       "    <tr>\n",
       "      <th>260307</th>\n",
       "      <td>NaN</td>\n",
       "      <td>6.0</td>\n",
       "      <td>3.0</td>\n",
       "      <td>NaN</td>\n",
       "      <td>1.0</td>\n",
       "      <td>4.0</td>\n",
       "    </tr>\n",
       "    <tr>\n",
       "      <th>260681</th>\n",
       "      <td>NaN</td>\n",
       "      <td>1.0</td>\n",
       "      <td>NaN</td>\n",
       "      <td>1.0</td>\n",
       "      <td>1.0</td>\n",
       "      <td>1.0</td>\n",
       "    </tr>\n",
       "    <tr>\n",
       "      <th>261048</th>\n",
       "      <td>NaN</td>\n",
       "      <td>2.0</td>\n",
       "      <td>NaN</td>\n",
       "      <td>NaN</td>\n",
       "      <td>NaN</td>\n",
       "      <td>1.0</td>\n",
       "    </tr>\n",
       "    <tr>\n",
       "      <th>261054</th>\n",
       "      <td>1.0</td>\n",
       "      <td>2.0</td>\n",
       "      <td>1.0</td>\n",
       "      <td>NaN</td>\n",
       "      <td>1.0</td>\n",
       "      <td>2.0</td>\n",
       "    </tr>\n",
       "    <tr>\n",
       "      <th>261303</th>\n",
       "      <td>NaN</td>\n",
       "      <td>1.0</td>\n",
       "      <td>1.0</td>\n",
       "      <td>NaN</td>\n",
       "      <td>NaN</td>\n",
       "      <td>3.0</td>\n",
       "    </tr>\n",
       "  </tbody>\n",
       "</table>\n",
       "<p>486 rows × 6 columns</p>\n",
       "</div>"
      ],
      "text/plain": [
       "ingredient_category  carbs  dairy  meat  oil  sugar  veg\n",
       "recipe_id                                               \n",
       "6691                   NaN    3.0   NaN  1.0    1.0  NaN\n",
       "6803                   NaN    1.0   1.0  1.0    1.0  NaN\n",
       "6916                   NaN    3.0   NaN  1.0    2.0  NaN\n",
       "7030                   1.0    5.0   NaN  NaN    2.0  NaN\n",
       "7037                   NaN    3.0   NaN  NaN    1.0  NaN\n",
       "...                    ...    ...   ...  ...    ...  ...\n",
       "260307                 NaN    6.0   3.0  NaN    1.0  4.0\n",
       "260681                 NaN    1.0   NaN  1.0    1.0  1.0\n",
       "261048                 NaN    2.0   NaN  NaN    NaN  1.0\n",
       "261054                 1.0    2.0   1.0  NaN    1.0  2.0\n",
       "261303                 NaN    1.0   1.0  NaN    NaN  3.0\n",
       "\n",
       "[486 rows x 6 columns]"
      ]
     },
     "execution_count": 23,
     "metadata": {},
     "output_type": "execute_result"
    }
   ],
   "source": [
    "df_pivot = df_category.pivot_table(index=\"recipe_id\",columns='ingredient_category', values=\"recipe_id\",aggfunc=lambda x: x.count())\n",
    "df_pivot"
   ]
  },
  {
   "cell_type": "code",
   "execution_count": 24,
   "metadata": {},
   "outputs": [],
   "source": [
    "df_pivot.to_csv('category_rules.csv')"
   ]
  },
  {
   "cell_type": "code",
   "execution_count": null,
   "metadata": {},
   "outputs": [],
   "source": []
  }
 ],
 "metadata": {
  "kernelspec": {
   "display_name": "Python 3",
   "language": "python",
   "name": "python3"
  },
  "language_info": {
   "codemirror_mode": {
    "name": "ipython",
    "version": 3
   },
   "file_extension": ".py",
   "mimetype": "text/x-python",
   "name": "python",
   "nbconvert_exporter": "python",
   "pygments_lexer": "ipython3",
   "version": "3.6.12"
  }
 },
 "nbformat": 4,
 "nbformat_minor": 4
}
